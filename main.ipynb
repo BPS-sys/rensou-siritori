{
 "cells": [
  {
   "cell_type": "code",
   "execution_count": 1,
   "id": "ebe0447f",
   "metadata": {},
   "outputs": [],
   "source": [
    "import rensou\n",
    "import tkinter as tk\n",
    "\n",
    "\n",
    "ROOT = tk.Tk()\n",
    "rensou.App(ROOT, model_name='wiki_model_sg_20.model')\n",
    "ROOT.mainloop()"
   ]
  }
 ],
 "metadata": {
  "kernelspec": {
   "display_name": "Python 3 (ipykernel)",
   "language": "python",
   "name": "python3"
  },
  "language_info": {
   "codemirror_mode": {
    "name": "ipython",
    "version": 3
   },
   "file_extension": ".py",
   "mimetype": "text/x-python",
   "name": "python",
   "nbconvert_exporter": "python",
   "pygments_lexer": "ipython3",
   "version": "3.9.12"
  }
 },
 "nbformat": 4,
 "nbformat_minor": 5
}
